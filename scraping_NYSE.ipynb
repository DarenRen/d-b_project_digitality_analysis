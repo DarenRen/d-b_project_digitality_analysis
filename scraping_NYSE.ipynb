{
 "cells": [
  {
   "cell_type": "markdown",
   "metadata": {},
   "source": [
    "Public Companies Scraping"
   ]
  },
  {
   "cell_type": "markdown",
   "metadata": {},
   "source": [
    "Get all the public companies information in America by scraping from NYSE."
   ]
  },
  {
   "cell_type": "code",
   "execution_count": null,
   "metadata": {},
   "outputs": [],
   "source": [
    "import requests\n",
    "import bs4\n",
    "import pandas as pd\n",
    "import json\n",
    "import numpy\n",
    "import regex as re"
   ]
  },
  {
   "cell_type": "code",
   "execution_count": null,
   "metadata": {},
   "outputs": [],
   "source": [
    "payloadHeader = {\n",
    "    \"Content-Type\": \"application/json\",\n",
    "}\n",
    "payloadData = {\n",
    "    \"instrumentType\":\"EQUITY\",\n",
    "    \"pageNumber\":1,\n",
    "    \"sortColumn\":\"NORMALIZED_TICKER\",\n",
    "    \"sortOrder\":\"ASC\",\n",
    "    \"maxResultsPerPage\":1000000,\n",
    "    \"filterToken\":\"\",\n",
    "}\n",
    "# get the json requested\n",
    "url = \"https://www.nyse.com/api/quotes/filter\"\n",
    "html = requests.post(url, data=json.dumps(payloadData), headers=payloadHeader)\n",
    "listing = json.loads(html.text)\n",
    "# scrap the companies information\n",
    "fileObject = open('listing.json', 'w')\n",
    "fileObject.write(html.text)\n",
    "fileObject.close()\n",
    "company = list()\n",
    "for i in range(6446):\n",
    "    ticker = listing[i][\"symbolTicker\"].replace('.', '').split(\"-\")[0]\n",
    "    name = listing[i][\"instrumentName\"]\n",
    "    url = f\"https://finance.yahoo.com/quote/{ticker}/profile\"\n",
    "    html = requests.get(url)\n",
    "    response = bs4.BeautifulSoup(html.content,\"lxml\")\n",
    "    print(f\"{i} {ticker}\")\n",
    "    try:\n",
    "        website = response.find(\"div\", class_=\"Mb(25px)\").find_all(\"a\")[1].get_text()\n",
    "        company.append((ticker, name, website))\n",
    "    except:\n",
    "        print(\"fail\")\n",
    "# output the results\n",
    "listing = pd.DataFrame(company, columns=['ticker','name','website']).drop_duplicates('website')\n",
    "listing = listing.reset_index(drop=True)\n",
    "# listing.to_csv(\"listing.csv\")"
   ]
  },
  {
   "cell_type": "code",
   "execution_count": null,
   "metadata": {},
   "outputs": [],
   "source": []
  }
 ],
 "metadata": {
  "kernelspec": {
   "display_name": "Python 3",
   "language": "python",
   "name": "python3"
  },
  "language_info": {
   "codemirror_mode": {
    "name": "ipython",
    "version": 3
   },
   "file_extension": ".py",
   "mimetype": "text/x-python",
   "name": "python",
   "nbconvert_exporter": "python",
   "pygments_lexer": "ipython3",
   "version": "3.7.3"
  }
 },
 "nbformat": 4,
 "nbformat_minor": 2
}
